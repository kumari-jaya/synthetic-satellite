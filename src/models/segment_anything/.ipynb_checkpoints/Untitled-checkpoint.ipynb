{
 "cells": [
  {
   "cell_type": "code",
   "execution_count": 2,
   "id": "ee4a67b1",
   "metadata": {},
   "outputs": [
    {
     "ename": "ModuleNotFoundError",
     "evalue": "No module named 'segment_anything'",
     "output_type": "error",
     "traceback": [
      "\u001b[0;31m---------------------------------------------------------------------------\u001b[0m",
      "\u001b[0;31mModuleNotFoundError\u001b[0m                       Traceback (most recent call last)",
      "Cell \u001b[0;32mIn[2], line 1\u001b[0m\n\u001b[0;32m----> 1\u001b[0m \u001b[38;5;28;01mfrom\u001b[39;00m \u001b[38;5;21;01msegment_anything\u001b[39;00m \u001b[38;5;28;01mimport\u001b[39;00m sam_model_registry, SamAutomaticMaskGenerator, SamPredictor\n\u001b[1;32m      3\u001b[0m sam_checkpoint \u001b[38;5;241m=\u001b[39m \u001b[38;5;124m\"\u001b[39m\u001b[38;5;124m/home/jaya/django/lbvm_extraction/segment_anything/sam_vit_h_4b8939.pth\u001b[39m\u001b[38;5;124m\"\u001b[39m\n\u001b[1;32m      4\u001b[0m model_type \u001b[38;5;241m=\u001b[39m \u001b[38;5;124m\"\u001b[39m\u001b[38;5;124mvit_h\u001b[39m\u001b[38;5;124m\"\u001b[39m\n",
      "\u001b[0;31mModuleNotFoundError\u001b[0m: No module named 'segment_anything'"
     ]
    }
   ],
   "source": [
    "from models.segment_anything import sam_model_registry, SamAutomaticMaskGenerator, SamPredictor\n",
    "\n",
    "sam_checkpoint = \"/home/jaya/django/lbvm_extraction/segment_anything/sam_vit_h_4b8939.pth\"\n",
    "model_type = \"vit_h\"\n",
    "print(\"in p models14\")\n",
    "#device = \"cuda\"\n",
    "sam = sam_model_registry[model_type](checkpoint=sam_checkpoint)\n",
    "#sam.to(device=device)\n",
    "\n",
    "mask_generator_2 = SamAutomaticMaskGenerator(model=sam,\n",
    "    points_per_side=32,\n",
    "    pred_iou_thresh=0.86,\n",
    "    stability_score_thresh=0.92,\n",
    "    crop_n_layers=1,\n",
    "    crop_n_points_downscale_factor=2,\n",
    "    min_mask_region_area=100,)  # Requires open-cv to run post-processing)\n",
    "\n",
    "blurred_x = cv2.GaussianBlur(image, (7, 7), 0)\n",
    "masks2 = mask_generator_2.generate(blurred_x)\n",
    "print(\"in p models15\")\n",
    "now = datetime.now()\n",
    "aa=[]\n",
    "geojson_url=[]\n",
    "#print(masks2)\n",
    "count = 0\n",
    "count1=0\n",
    "print(\"@@@@@@@@@@\")\n",
    "print(\"length of masks2\"+str(len(masks2)))\n",
    "print(\"@@@@@@@@@@\")\n",
    "print(\"in p models16\")"
   ]
  },
  {
   "cell_type": "code",
   "execution_count": null,
   "id": "abdeb5ff",
   "metadata": {},
   "outputs": [],
   "source": [
    "for ann in masks2:\n",
    "    m = ann['segmentation']\n",
    "    print(\"in p models17\")\n",
    "    #print(m)\n",
    "    if isinstance(m, np.ndarray) and m.dtype == bool:\n",
    "        m = mask_utils.encode(np.asfortranarray(m))\n",
    "        #m = mask_utils.encode(np.ascontiguousarray(m, dtype=np.uint8))\n",
    "        #m = mask_utils.encode(np.array(m))\n",
    "        #print(m)\n",
    "    elif isinstance(m, dict) and 'counts' in m and 'size' in m:\n",
    "        pass  # Already in RLE format\n",
    "    else:\n",
    "        print(\"Invalid segmentation format:\", m)\n",
    "        continue\n",
    "    mask3 = mask_utils.decode(m)\n",
    "        \n",
    "    a1=mask3.astype(np.uint8)\n",
    "    a2=cv2.RETR_TREE\n",
    "    a3=cv2.CHAIN_APPROX_SIMPLE\n",
    "    plt.imshow(image_x1, cmap='gray')\n",
    "    #plt.title('')\n",
    "    plt.axis('off')\n",
    "\n",
    "    plt.tight_layout()\n",
    "    plt.savefig(\"/home/jaya/django/lbvm_extraction/x_im1.png\")\n",
    "    contours, hierarchy = cv2.findContours(a1, a2, a3)"
   ]
  }
 ],
 "metadata": {
  "kernelspec": {
   "display_name": "Python 3 (ipykernel)",
   "language": "python",
   "name": "python3"
  },
  "language_info": {
   "codemirror_mode": {
    "name": "ipython",
    "version": 3
   },
   "file_extension": ".py",
   "mimetype": "text/x-python",
   "name": "python",
   "nbconvert_exporter": "python",
   "pygments_lexer": "ipython3",
   "version": "3.11.5"
  }
 },
 "nbformat": 4,
 "nbformat_minor": 5
}
